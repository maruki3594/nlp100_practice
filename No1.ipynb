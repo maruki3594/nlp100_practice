{
 "cells": [
  {
   "cell_type": "code",
   "execution_count": 11,
   "metadata": {},
   "outputs": [
    {
     "name": "stdout",
     "output_type": "stream",
     "text": [
      "desserts\n"
     ]
    }
   ],
   "source": [
    "input = 'stressed'\n",
    "output = input[len(input)::-1]\n",
    "print(output)"
   ]
  },
  {
   "cell_type": "code",
   "execution_count": 10,
   "metadata": {},
   "outputs": [
    {
     "name": "stdout",
     "output_type": "stream",
     "text": [
      "パトカー\n"
     ]
    }
   ],
   "source": [
    "input = 'パタトクカシーー'\n",
    "output = input[:len(input):2]\n",
    "print(output)\n"
   ]
  },
  {
   "cell_type": "code",
   "execution_count": 23,
   "metadata": {},
   "outputs": [
    {
     "name": "stdout",
     "output_type": "stream",
     "text": [
      "['Now', 'I', 'need', 'a', 'drink,', 'alcoholic', 'of', 'course,', 'after', 'the', 'heavy', 'lectures', 'involving', 'quantum', 'mechanics']\n"
     ]
    }
   ],
   "source": [
    "input = 'Now I need a drink, alcoholic of course, after the heavy lectures involving quantum mechanics.'\n",
    "output = input.split()\n",
    "output[len(output) - 1] = output[len(output) - 1].removesuffix('.')\n",
    "print(output)"
   ]
  },
  {
   "cell_type": "code",
   "execution_count": 136,
   "metadata": {},
   "outputs": [
    {
     "name": "stdout",
     "output_type": "stream",
     "text": [
      "{'Hi': 0, 'H': 1, 'Li': 2, 'Be': 3, 'Bo': 4, 'C': 19, 'N': 9, 'O': 7, 'F': 8, 'Na': 10, 'Mi': 11, 'Al': 12, 'Si': 13, 'Pe': 14, 'S': 15, 'Ar': 17, 'Ki': 18}\n"
     ]
    }
   ],
   "source": [
    "element = 'Hi He Lied Because Boron Could Not Oxidize Fluorine. New Nations Might Also Sign Peace Security Clause. Arthur King Can.'\n",
    "element = element.split()\n",
    "element[len(element) - 1] = element[len(element) - 1].removesuffix('.')\n",
    "\n",
    "dict = {}\n",
    "l = [1, 5, 6, 7, 8, 9, 15, 16, 19]\n",
    "for i in range(len(element)):\n",
    "    if i in l:\n",
    "        dict[element[i][0]] = i\n",
    "    else:\n",
    "        dict[element[i][:2]] = i\n",
    "        \n",
    "print(dict)\n"
   ]
  },
  {
   "cell_type": "code",
   "execution_count": null,
   "metadata": {},
   "outputs": [],
   "source": [
    "def word_ngram(l, n):\n",
    "    l = l.split()\n",
    "    return [' '.join(l[i:i + n]) for i in range(len(l) - n + 1)]\n",
    "\n",
    "def char_ngram(l, n):\n",
    "    return [''.join(l[i:i + n]) for i in range(len(l) - n + 1)]\n",
    "\n",
    "input = 'I am an NLPer'\n",
    "print(word_ngram(input, 2))\n",
    "print(char_ngram(input, 2))"
   ]
  },
  {
   "cell_type": "code",
   "execution_count": 84,
   "metadata": {},
   "outputs": [
    {
     "name": "stdout",
     "output_type": "stream",
     "text": [
      "{'ap', 'ar', 'ad', 'ra', 'is', 'pa', 'di', 'se'}\n",
      "{'ap', 'ar', 'ag', 'gr', 'ph', 'ra', 'pa'}\n",
      "{'ap', 'ar', 'ag', 'ad', 'gr', 'ph', 'ra', 'is', 'pa', 'di', 'se'}\n",
      "{'ap', 'ar', 'ra', 'pa'}\n",
      "{'di', 'ad', 'is', 'se'}\n",
      "True\n",
      "False\n"
     ]
    }
   ],
   "source": [
    "s1 = set(char_ngram('paraparaparadise', 2))\n",
    "s2 = set(char_ngram('paragraph', 2))\n",
    "\n",
    "print(s1)\n",
    "print(s2)\n",
    "\n",
    "print(s1 | s2)\n",
    "print(s1 & s2)\n",
    "print(s1 - s2)\n",
    "\n",
    "print('se' in s1)\n",
    "print('se' in s2)"
   ]
  },
  {
   "cell_type": "code",
   "execution_count": null,
   "metadata": {},
   "outputs": [],
   "source": [
    "def sent_gene(x, y, z):\n",
    "    return f'{x}時の{y}は{z}'\n",
    "\n",
    "print(sent_gene(12, '気温', 22.4))"
   ]
  },
  {
   "cell_type": "code",
   "execution_count": 93,
   "metadata": {},
   "outputs": [
    {
     "name": "stdout",
     "output_type": "stream",
     "text": [
      "Nld I mvvw z wirmp, zoxlslorx lu xlfihv, zugvi gsv svzeb ovxgfivh rmeloermt jfzmgfn nvxszmrxh.\n",
      "Now I need a drink, alcoholic of course, after the heavy lectures involving quantum mechanics.\n"
     ]
    }
   ],
   "source": [
    "def cipher(l):\n",
    "    l = list(l)\n",
    "    for i in range(len(l)):\n",
    "        if (l[i] >= 'a' and l[i] <= 'z'):\n",
    "            l[i] = chr(219 - ord(l[i]))\n",
    "    return ''.join(l)\n",
    "            \n",
    "input = 'Now I need a drink, alcoholic of course, after the heavy lectures involving quantum mechanics.'\n",
    "print(cipher(input))\n",
    "print(cipher(cipher(input)))"
   ]
  },
  {
   "cell_type": "code",
   "execution_count": 135,
   "metadata": {},
   "outputs": [
    {
     "name": "stdout",
     "output_type": "stream",
     "text": [
      "I coldun’t beeivle that I cluod auctllay urndanestd what I was rdaenig : the pemaonehnl pweor of the hamun mdni.\n"
     ]
    }
   ],
   "source": [
    "import random\n",
    "\n",
    "def TypoglycemiaPermalink(l):\n",
    "    l = l.split()\n",
    "    for i in range(len(l)):\n",
    "        if len(l[i]) > 4:\n",
    "            lst = list(l[i][1:-1])\n",
    "            random.shuffle(lst)\n",
    "            l[i] = l[i][0] + ''.join(lst) + l[i][-1]\n",
    "    return ' '.join(l)\n",
    "\n",
    "input = 'I couldn’t believe that I could actually understand what I was reading : the phenomenal power of the human mind.'\n",
    "print(TypoglycemiaPermalink(input))"
   ]
  }
 ],
 "metadata": {
  "kernelspec": {
   "display_name": "Python 3",
   "language": "python",
   "name": "python3"
  },
  "language_info": {
   "codemirror_mode": {
    "name": "ipython",
    "version": 3
   },
   "file_extension": ".py",
   "mimetype": "text/x-python",
   "name": "python",
   "nbconvert_exporter": "python",
   "pygments_lexer": "ipython3",
   "version": "3.11.9"
  }
 },
 "nbformat": 4,
 "nbformat_minor": 2
}
